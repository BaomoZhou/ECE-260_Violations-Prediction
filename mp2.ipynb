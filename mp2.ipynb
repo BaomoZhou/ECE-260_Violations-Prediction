{
 "cells": [
  {
   "cell_type": "code",
   "execution_count": 1,
   "metadata": {},
   "outputs": [],
   "source": [
    "import pandas as pd\n",
    "from scipy import stats \n",
    "from sklearn import linear_model"
   ]
  },
  {
   "cell_type": "code",
   "execution_count": 8,
   "metadata": {},
   "outputs": [],
   "source": [
    "df = pd.read_csv(\"training.csv\")"
   ]
  },
  {
   "cell_type": "code",
   "execution_count": 19,
   "metadata": {},
   "outputs": [
    {
     "data": {
      "text/plain": [
       "pandas.core.frame.DataFrame"
      ]
     },
     "execution_count": 19,
     "metadata": {},
     "output_type": "execute_result"
    }
   ],
   "source": [
    "type(df)"
   ]
  },
  {
   "cell_type": "code",
   "execution_count": 9,
   "metadata": {},
   "outputs": [
    {
     "data": {
      "text/html": [
       "<div>\n",
       "<style scoped>\n",
       "    .dataframe tbody tr th:only-of-type {\n",
       "        vertical-align: middle;\n",
       "    }\n",
       "\n",
       "    .dataframe tbody tr th {\n",
       "        vertical-align: top;\n",
       "    }\n",
       "\n",
       "    .dataframe thead th {\n",
       "        text-align: right;\n",
       "    }\n",
       "</style>\n",
       "<table border=\"1\" class=\"dataframe\">\n",
       "  <thead>\n",
       "    <tr style=\"text-align: right;\">\n",
       "      <th></th>\n",
       "      <th>netName_x</th>\n",
       "      <th>util</th>\n",
       "      <th>cp</th>\n",
       "      <th>bboxArea</th>\n",
       "      <th>bboxAr</th>\n",
       "      <th>numPins</th>\n",
       "      <th>numVias</th>\n",
       "    </tr>\n",
       "  </thead>\n",
       "  <tbody>\n",
       "    <tr>\n",
       "      <td>0</td>\n",
       "      <td>clk</td>\n",
       "      <td>60</td>\n",
       "      <td>1600</td>\n",
       "      <td>967.303</td>\n",
       "      <td>0.191</td>\n",
       "      <td>7</td>\n",
       "      <td>18</td>\n",
       "    </tr>\n",
       "    <tr>\n",
       "      <td>1</td>\n",
       "      <td>rst</td>\n",
       "      <td>60</td>\n",
       "      <td>1600</td>\n",
       "      <td>1.600</td>\n",
       "      <td>0.400</td>\n",
       "      <td>4</td>\n",
       "      <td>3</td>\n",
       "    </tr>\n",
       "    <tr>\n",
       "      <td>2</td>\n",
       "      <td>done</td>\n",
       "      <td>60</td>\n",
       "      <td>1600</td>\n",
       "      <td>0.000</td>\n",
       "      <td>0.000</td>\n",
       "      <td>2</td>\n",
       "      <td>1</td>\n",
       "    </tr>\n",
       "    <tr>\n",
       "      <td>3</td>\n",
       "      <td>{key[127]}</td>\n",
       "      <td>60</td>\n",
       "      <td>1600</td>\n",
       "      <td>0.000</td>\n",
       "      <td>0.000</td>\n",
       "      <td>2</td>\n",
       "      <td>1</td>\n",
       "    </tr>\n",
       "    <tr>\n",
       "      <td>4</td>\n",
       "      <td>{key[126]}</td>\n",
       "      <td>60</td>\n",
       "      <td>1600</td>\n",
       "      <td>0.000</td>\n",
       "      <td>0.000</td>\n",
       "      <td>2</td>\n",
       "      <td>1</td>\n",
       "    </tr>\n",
       "  </tbody>\n",
       "</table>\n",
       "</div>"
      ],
      "text/plain": [
       "    netName_x  util    cp  bboxArea  bboxAr  numPins  numVias\n",
       "0         clk    60  1600   967.303   0.191        7       18\n",
       "1         rst    60  1600     1.600   0.400        4        3\n",
       "2        done    60  1600     0.000   0.000        2        1\n",
       "3  {key[127]}    60  1600     0.000   0.000        2        1\n",
       "4  {key[126]}    60  1600     0.000   0.000        2        1"
      ]
     },
     "execution_count": 9,
     "metadata": {},
     "output_type": "execute_result"
    }
   ],
   "source": [
    "df.head()"
   ]
  },
  {
   "cell_type": "code",
   "execution_count": 15,
   "metadata": {},
   "outputs": [
    {
     "data": {
      "text/plain": [
       "27891.2"
      ]
     },
     "execution_count": 15,
     "metadata": {},
     "output_type": "execute_result"
    }
   ],
   "source": [
    "len(df) * 0.8"
   ]
  },
  {
   "cell_type": "code",
   "execution_count": 21,
   "metadata": {},
   "outputs": [
    {
     "data": {
      "text/html": [
       "<div>\n",
       "<style scoped>\n",
       "    .dataframe tbody tr th:only-of-type {\n",
       "        vertical-align: middle;\n",
       "    }\n",
       "\n",
       "    .dataframe tbody tr th {\n",
       "        vertical-align: top;\n",
       "    }\n",
       "\n",
       "    .dataframe thead th {\n",
       "        text-align: right;\n",
       "    }\n",
       "</style>\n",
       "<table border=\"1\" class=\"dataframe\">\n",
       "  <thead>\n",
       "    <tr style=\"text-align: right;\">\n",
       "      <th></th>\n",
       "      <th>netName_x</th>\n",
       "      <th>util</th>\n",
       "      <th>cp</th>\n",
       "      <th>bboxArea</th>\n",
       "      <th>bboxAr</th>\n",
       "      <th>numPins</th>\n",
       "      <th>numVias</th>\n",
       "    </tr>\n",
       "  </thead>\n",
       "  <tbody>\n",
       "    <tr>\n",
       "      <td>0</td>\n",
       "      <td>clk</td>\n",
       "      <td>60</td>\n",
       "      <td>1600</td>\n",
       "      <td>967.303</td>\n",
       "      <td>0.191</td>\n",
       "      <td>7</td>\n",
       "      <td>18</td>\n",
       "    </tr>\n",
       "    <tr>\n",
       "      <td>1</td>\n",
       "      <td>rst</td>\n",
       "      <td>60</td>\n",
       "      <td>1600</td>\n",
       "      <td>1.600</td>\n",
       "      <td>0.400</td>\n",
       "      <td>4</td>\n",
       "      <td>3</td>\n",
       "    </tr>\n",
       "  </tbody>\n",
       "</table>\n",
       "</div>"
      ],
      "text/plain": [
       "  netName_x  util    cp  bboxArea  bboxAr  numPins  numVias\n",
       "0       clk    60  1600   967.303   0.191        7       18\n",
       "1       rst    60  1600     1.600   0.400        4        3"
      ]
     },
     "execution_count": 21,
     "metadata": {},
     "output_type": "execute_result"
    }
   ],
   "source": [
    "df[:2]"
   ]
  },
  {
   "cell_type": "markdown",
   "metadata": {},
   "source": [
    "## baseline model"
   ]
  },
  {
   "cell_type": "code",
   "execution_count": 22,
   "metadata": {},
   "outputs": [],
   "source": [
    "import pandas as pd\n",
    "from scipy import stats \n",
    "from sklearn import linear_model\n",
    "\n",
    "# to save model\n",
    "import pickle\n",
    "\n",
    "\n",
    "df = pd.read_csv(\"training.csv\")\n",
    "\n",
    "train = df[: 27891]\n",
    "test = df[27891:]\n",
    "\n",
    "# build ML model using scipy LinearRegression\n",
    "reg = linear_model.LinearRegression()\n",
    "var_train = train[['bboxArea','bboxAr', 'numPins']]\n",
    "label_train = train['numVias']\n",
    "var_test = test[['bboxArea','bboxAr', 'numPins']]\n",
    "label_test = test['numVias']\n",
    "\n"
   ]
  },
  {
   "cell_type": "code",
   "execution_count": 23,
   "metadata": {},
   "outputs": [
    {
     "data": {
      "text/plain": [
       "27891"
      ]
     },
     "execution_count": 23,
     "metadata": {},
     "output_type": "execute_result"
    }
   ],
   "source": [
    "len(train)"
   ]
  },
  {
   "cell_type": "code",
   "execution_count": 24,
   "metadata": {},
   "outputs": [],
   "source": [
    "reg.fit(var_train, label_train)\n",
    "# print(\"trained coeff:\", reg.coef_)\n",
    "# print(reg.score(var, label))\n",
    "\n",
    "# save ML model\n",
    "fileName = \"linearRegression.sav\"\n",
    "pickle.dump(reg, open(fileName, \"wb\"))\n"
   ]
  },
  {
   "cell_type": "code",
   "execution_count": 25,
   "metadata": {},
   "outputs": [],
   "source": [
    "import pandas as pd\n",
    "import numpy as np\n",
    "from scipy import stats \n",
    "from sklearn import linear_model\n",
    "\n",
    "# to load model\n",
    "import pickle\n",
    "\n",
    "fileName = \"linearRegression.sav\"\n",
    "reg = pickle.load(open(fileName, 'rb'))\n",
    "\n",
    "df = pd.read_csv(\"training.csv\" )\n",
    "\n",
    "var = df[['bboxArea','bboxAr', 'numPins']]\n",
    "label = df['numVias']\n",
    "\n",
    "  # save inference CSV\n",
    "with open('inference.csv', 'wb') as f:\n",
    "  f.write(b\"numVias\\n\") \n",
    "  np.savetxt(f, reg.predict(var_test), delimiter=\",\", fmt='%.3f')\n",
    "\n"
   ]
  },
  {
   "cell_type": "code",
   "execution_count": 26,
   "metadata": {},
   "outputs": [
    {
     "name": "stdout",
     "output_type": "stream",
     "text": [
      "RMSE:  3.059359916918521\n"
     ]
    }
   ],
   "source": [
    "import pandas as pd\n",
    "import numpy as np\n",
    "\n",
    "def rmse(predictions, targets):\n",
    "  return np.sqrt(((predictions - targets) ** 2).mean())\n",
    "\n",
    "# merge three *.csv into one pandas dataframe \n",
    "dfTrain = pd.read_csv(\"training.csv\")\n",
    "dfInf = pd.read_csv(\"inference.csv\")\n",
    "\n",
    "trainVar = np.asarray(list(dfTrain['numVias']))\n",
    "infVar = np.asarray(list(dfInf['numVias']))\n",
    "\n",
    "rmse = rmse(label_test, infVar)\n",
    "print(\"RMSE: \", rmse)"
   ]
  },
  {
   "cell_type": "markdown",
   "metadata": {},
   "source": [
    "## Random Forests"
   ]
  },
  {
   "cell_type": "code",
   "execution_count": 31,
   "metadata": {},
   "outputs": [],
   "source": [
    "import pandas as pd\n",
    "import numpy as np\n",
    "from sklearn.model_selection import train_test_split\n",
    "from sklearn.preprocessing import StandardScaler\n",
    "from sklearn.ensemble import RandomForestRegressor\n",
    "from sklearn import metrics"
   ]
  },
  {
   "cell_type": "code",
   "execution_count": 70,
   "metadata": {},
   "outputs": [],
   "source": [
    "\n",
    "X = df[['bboxArea','bboxAr', 'numPins']]\n",
    "y = df['numVias']\n",
    "X_train, X_test, y_train, y_test = train_test_split(X, y, test_size=0.2, random_state=0)"
   ]
  },
  {
   "cell_type": "markdown",
   "metadata": {},
   "source": [
    "* Feature Scaling\n",
    "\n",
    "We know our dataset is not yet a scaled value, for instance the bboxArea field has values in the range of thousands while bboxAr has values in range of tenths. Therefore, it would be beneficial to scale our data (although, as mentioned earlier, this step isn't as important for the random forests algorithm). To do so, we will use Scikit-Learn's StandardScaler class. Execute the following code to do so:"
   ]
  },
  {
   "cell_type": "code",
   "execution_count": 29,
   "metadata": {},
   "outputs": [],
   "source": [
    "sc = StandardScaler()\n",
    "X_train = sc.fit_transform(X_train)\n",
    "X_test = sc.transform(X_test)"
   ]
  },
  {
   "cell_type": "code",
   "execution_count": 30,
   "metadata": {},
   "outputs": [],
   "source": [
    "regressor = RandomForestRegressor(n_estimators=20, random_state=0)\n",
    "regressor.fit(X_train, y_train)\n",
    "y_pred = regressor.predict(X_test)"
   ]
  },
  {
   "cell_type": "code",
   "execution_count": 32,
   "metadata": {},
   "outputs": [
    {
     "name": "stdout",
     "output_type": "stream",
     "text": [
      "Root Mean Squared Error: 2.449566881538972\n"
     ]
    }
   ],
   "source": [
    "print('Root Mean Squared Error:', np.sqrt(metrics.mean_squared_error(y_test, y_pred)))"
   ]
  },
  {
   "cell_type": "markdown",
   "metadata": {},
   "source": [
    "* Add more features: util,\tcp"
   ]
  },
  {
   "cell_type": "code",
   "execution_count": 71,
   "metadata": {},
   "outputs": [],
   "source": [
    "X = df[['bboxArea','bboxAr', 'numPins', 'util', 'cp']]\n",
    " \n",
    "X_train, X_test, y_train, y_test = train_test_split(X, y, test_size=0.2, random_state=0)"
   ]
  },
  {
   "cell_type": "code",
   "execution_count": null,
   "metadata": {},
   "outputs": [],
   "source": []
  },
  {
   "cell_type": "code",
   "execution_count": 68,
   "metadata": {},
   "outputs": [
    {
     "name": "stdout",
     "output_type": "stream",
     "text": [
      "Root Mean Squared Error: 3.156628089539091\n"
     ]
    }
   ],
   "source": [
    "regressor2 = RandomForestRegressor(n_estimators=20, random_state=0)\n",
    "regressor2.fit(X_train, y_train)\n",
    "y_pred = regressor2.predict(X_test)\n",
    "print('Root Mean Squared Error:', np.sqrt(metrics.mean_squared_error(y_test, y_pred)))"
   ]
  },
  {
   "cell_type": "code",
   "execution_count": null,
   "metadata": {},
   "outputs": [],
   "source": []
  },
  {
   "cell_type": "code",
   "execution_count": 35,
   "metadata": {},
   "outputs": [
    {
     "name": "stdout",
     "output_type": "stream",
     "text": [
      "Root Mean Squared Error: 2.414973459360567\n"
     ]
    }
   ],
   "source": [
    "regressor2 = RandomForestRegressor(n_estimators=20, random_state=0)\n",
    "regressor2.fit(X_train, y_train)\n",
    "y_pred = regressor2.predict(X_test)\n",
    "print('Root Mean Squared Error:', np.sqrt(metrics.mean_squared_error(y_test, y_pred)))"
   ]
  },
  {
   "cell_type": "code",
   "execution_count": 48,
   "metadata": {},
   "outputs": [
    {
     "name": "stdout",
     "output_type": "stream",
     "text": [
      "Root Mean Squared Error: 2.367231784599437\n"
     ]
    }
   ],
   "source": [
    "regressor3 = RandomForestRegressor(n_estimators=600, random_state=0)\n",
    "regressor3.fit(X_train, y_train)\n",
    "y_pred = regressor3.predict(X_test)\n",
    "print('Root Mean Squared Error:', np.sqrt(metrics.mean_squared_error(y_test, y_pred)))"
   ]
  },
  {
   "cell_type": "code",
   "execution_count": 50,
   "metadata": {},
   "outputs": [
    {
     "name": "stdout",
     "output_type": "stream",
     "text": [
      "Root Mean Squared Error: 2.3675529148168826\n"
     ]
    }
   ],
   "source": [
    "regressor2 = RandomForestRegressor(n_estimators=500, random_state=0)\n",
    "regressor2.fit(X_train, y_train)\n",
    "y_pred = regressor2.predict(X_test)\n",
    "print('Root Mean Squared Error:', np.sqrt(metrics.mean_squared_error(y_test, y_pred)))"
   ]
  },
  {
   "cell_type": "code",
   "execution_count": 60,
   "metadata": {},
   "outputs": [],
   "source": [
    "\n",
    "n_list = list(range(500,700,10))\n",
    "\n",
    "rmse_list = []\n",
    "for n in n_list:\n",
    "    regressor2 = RandomForestRegressor(n_estimators= n, random_state=0)\n",
    "    regressor2.fit(X_train, y_train)\n",
    "    y_pred = regressor2.predict(X_test)\n",
    "    rmse_list.append(np.sqrt(metrics.mean_squared_error(y_test, y_pred)))\n"
   ]
  },
  {
   "cell_type": "code",
   "execution_count": 61,
   "metadata": {},
   "outputs": [
    {
     "data": {
      "image/png": "[encoded data removed]",
      "text/plain": [
       "<Figure size 432x288 with 1 Axes>"
      ]
     },
     "metadata": {
      "needs_background": "light"
     },
     "output_type": "display_data"
    }
   ],
   "source": [
    "import matplotlib.pyplot as plt\n",
    "plt.plot(n_list, rmse_list)\n",
    "plt.title('rmse over n_estimators')\n",
    "plt.xlabel('n')\n",
    "plt.ylabel('rmse')\n",
    "plt.show()"
   ]
  },
  {
   "cell_type": "code",
   "execution_count": 62,
   "metadata": {
    "scrolled": true
   },
   "outputs": [
    {
     "data": {
      "image/png": "[encoded data removed]",
      "text/plain": [
       "<Figure size 432x288 with 1 Axes>"
      ]
     },
     "metadata": {
      "needs_background": "light"
     },
     "output_type": "display_data"
    }
   ],
   "source": [
    "n_list = list(range(550,600,10))\n",
    "\n",
    "rmse_list = []\n",
    "for n in n_list:\n",
    "    regressor2 = RandomForestRegressor(n_estimators= n, random_state=0)\n",
    "    regressor2.fit(X_train, y_train)\n",
    "    y_pred = regressor2.predict(X_test)\n",
    "    rmse_list.append(np.sqrt(metrics.mean_squared_error(y_test, y_pred)))\n",
    "plt.plot(n_list, rmse_list)\n",
    "plt.title('rmse over n_estimators')\n",
    "plt.xlabel('n')\n",
    "plt.ylabel('rmse')\n",
    "plt.show()"
   ]
  },
  {
   "cell_type": "code",
   "execution_count": 72,
   "metadata": {},
   "outputs": [
    {
     "name": "stdout",
     "output_type": "stream",
     "text": [
      "Root Mean Squared Error: 2.3665661773664284\n"
     ]
    }
   ],
   "source": [
    "regressor2 = RandomForestRegressor(n_estimators=570, random_state=0)\n",
    "regressor2.fit(X_train, y_train)\n",
    "y_pred = regressor2.predict(X_test)\n",
    "print('Root Mean Squared Error:', np.sqrt(metrics.mean_squared_error(y_test, y_pred)))"
   ]
  },
  {
   "cell_type": "code",
   "execution_count": null,
   "metadata": {},
   "outputs": [],
   "source": []
  }
 ],
 "metadata": {
  "kernelspec": {
   "display_name": "Python 3",
   "language": "python",
   "name": "python3"
  },
  "language_info": {
   "codemirror_mode": {
    "name": "ipython",
    "version": 3
   },
   "file_extension": ".py",
   "mimetype": "text/x-python",
   "name": "python",
   "nbconvert_exporter": "python",
   "pygments_lexer": "ipython3",
   "version": "3.7.4"
  }
 },
 "nbformat": 4,
 "nbformat_minor": 2
}
